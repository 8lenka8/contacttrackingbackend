{
 "cells": [
  {
   "cell_type": "code",
   "execution_count": 1,
   "metadata": {},
   "outputs": [],
   "source": [
    "import pandas as pd\n",
    "import numpy as np\n",
    "import networkx as nx\n",
    "import requests\n",
    "import matplotlib.pyplot as plt"
   ]
  },
  {
   "cell_type": "code",
   "execution_count": 53,
   "metadata": {},
   "outputs": [],
   "source": [
    "def dateparse(d,t):\n",
    "    dt = d + \" \" + t\n",
    "    #return pd.datetime.strptime(dt, '%Y-%m-%d %H:%M:%S')\n",
    "    return pd.datetime.strptime(dt, '%Y-%m-%d %H:%M')\n",
    "\n",
    "df_bt = pd.read_csv(\"./Data/Anonymized_BT_Logs_20070903_1833.csv\", encoding ='utf8', parse_dates={'datetime': ['Date', 'Time']})"
   ]
  },
  {
   "cell_type": "code",
   "execution_count": 54,
   "metadata": {},
   "outputs": [
    {
     "data": {
      "text/plain": [
       "Index(['datetime', 'index', 'Address', 'Day', 'Search', 'Session', 'Person'], dtype='object')"
      ]
     },
     "execution_count": 54,
     "metadata": {},
     "output_type": "execute_result"
    }
   ],
   "source": [
    "df_bt .columns"
   ]
  },
  {
   "cell_type": "code",
   "execution_count": 55,
   "metadata": {},
   "outputs": [],
   "source": [
    "# exclude dummy addresses 000000000000 and FFFFFFFFFFFF used to denote beginning and end of session\n",
    "# exclude static devices denoted by the 'AxisBoard' prefix in Person or Search =0\n",
    "\n",
    "df_bt = df_bt[ ~(\n",
    "                (df_bt['Address'].isin(['000000000000','FFFFFFFFFFFF'])) \n",
    "                | (df_bt['Person'].str.startswith('AxisBoard', na=False))\n",
    "                | (df_bt['Search'] == 0)\n",
    "            )]"
   ]
  },
  {
   "cell_type": "code",
   "execution_count": 59,
   "metadata": {},
   "outputs": [
    {
     "data": {
      "text/html": [
       "<div>\n",
       "<style scoped>\n",
       "    .dataframe tbody tr th:only-of-type {\n",
       "        vertical-align: middle;\n",
       "    }\n",
       "\n",
       "    .dataframe tbody tr th {\n",
       "        vertical-align: top;\n",
       "    }\n",
       "\n",
       "    .dataframe thead th {\n",
       "        text-align: right;\n",
       "    }\n",
       "</style>\n",
       "<table border=\"1\" class=\"dataframe\">\n",
       "  <thead>\n",
       "    <tr style=\"text-align: right;\">\n",
       "      <th></th>\n",
       "      <th>datetime</th>\n",
       "      <th>index</th>\n",
       "      <th>Address</th>\n",
       "      <th>Day</th>\n",
       "      <th>Search</th>\n",
       "      <th>Session</th>\n",
       "      <th>Person</th>\n",
       "      <th>min</th>\n",
       "    </tr>\n",
       "  </thead>\n",
       "  <tbody>\n",
       "    <tr>\n",
       "      <th>1</th>\n",
       "      <td>2005-10-31 17:10:31</td>\n",
       "      <td>2</td>\n",
       "      <td>96dbec31c17d68e38ec48406ffa99a8d</td>\n",
       "      <td>Mon</td>\n",
       "      <td>1</td>\n",
       "      <td>1</td>\n",
       "      <td>c6c5992d7d4c0d51827a56e3dff9f310</td>\n",
       "      <td>2005-10-31 17:10</td>\n",
       "    </tr>\n",
       "    <tr>\n",
       "      <th>2</th>\n",
       "      <td>2005-10-31 17:10:59</td>\n",
       "      <td>3</td>\n",
       "      <td>96dbec31c17d68e38ec48406ffa99a8d</td>\n",
       "      <td>Mon</td>\n",
       "      <td>2</td>\n",
       "      <td>1</td>\n",
       "      <td>c6c5992d7d4c0d51827a56e3dff9f310</td>\n",
       "      <td>2005-10-31 17:10</td>\n",
       "    </tr>\n",
       "    <tr>\n",
       "      <th>3</th>\n",
       "      <td>2005-10-31 17:11:29</td>\n",
       "      <td>4</td>\n",
       "      <td>96dbec31c17d68e38ec48406ffa99a8d</td>\n",
       "      <td>Mon</td>\n",
       "      <td>3</td>\n",
       "      <td>1</td>\n",
       "      <td>c6c5992d7d4c0d51827a56e3dff9f310</td>\n",
       "      <td>2005-10-31 17:11</td>\n",
       "    </tr>\n",
       "    <tr>\n",
       "      <th>4</th>\n",
       "      <td>2005-10-31 17:12:00</td>\n",
       "      <td>5</td>\n",
       "      <td>96dbec31c17d68e38ec48406ffa99a8d</td>\n",
       "      <td>Mon</td>\n",
       "      <td>4</td>\n",
       "      <td>1</td>\n",
       "      <td>c6c5992d7d4c0d51827a56e3dff9f310</td>\n",
       "      <td>2005-10-31 17:12</td>\n",
       "    </tr>\n",
       "    <tr>\n",
       "      <th>5</th>\n",
       "      <td>2005-10-31 17:12:30</td>\n",
       "      <td>6</td>\n",
       "      <td>96dbec31c17d68e38ec48406ffa99a8d</td>\n",
       "      <td>Mon</td>\n",
       "      <td>5</td>\n",
       "      <td>1</td>\n",
       "      <td>c6c5992d7d4c0d51827a56e3dff9f310</td>\n",
       "      <td>2005-10-31 17:12</td>\n",
       "    </tr>\n",
       "  </tbody>\n",
       "</table>\n",
       "</div>"
      ],
      "text/plain": [
       "              datetime index                           Address  Day Search  \\\n",
       "1  2005-10-31 17:10:31     2  96dbec31c17d68e38ec48406ffa99a8d  Mon      1   \n",
       "2  2005-10-31 17:10:59     3  96dbec31c17d68e38ec48406ffa99a8d  Mon      2   \n",
       "3  2005-10-31 17:11:29     4  96dbec31c17d68e38ec48406ffa99a8d  Mon      3   \n",
       "4  2005-10-31 17:12:00     5  96dbec31c17d68e38ec48406ffa99a8d  Mon      4   \n",
       "5  2005-10-31 17:12:30     6  96dbec31c17d68e38ec48406ffa99a8d  Mon      5   \n",
       "\n",
       "  Session                            Person               min  \n",
       "1       1  c6c5992d7d4c0d51827a56e3dff9f310  2005-10-31 17:10  \n",
       "2       1  c6c5992d7d4c0d51827a56e3dff9f310  2005-10-31 17:10  \n",
       "3       1  c6c5992d7d4c0d51827a56e3dff9f310  2005-10-31 17:11  \n",
       "4       1  c6c5992d7d4c0d51827a56e3dff9f310  2005-10-31 17:12  \n",
       "5       1  c6c5992d7d4c0d51827a56e3dff9f310  2005-10-31 17:12  "
      ]
     },
     "execution_count": 59,
     "metadata": {},
     "output_type": "execute_result"
    }
   ],
   "source": [
    "df_bt.head()"
   ]
  },
  {
   "cell_type": "code",
   "execution_count": 70,
   "metadata": {},
   "outputs": [
    {
     "data": {
      "text/plain": [
       "(352875, 8)"
      ]
     },
     "execution_count": 70,
     "metadata": {},
     "output_type": "execute_result"
    }
   ],
   "source": [
    "df_bt.shape"
   ]
  },
  {
   "cell_type": "code",
   "execution_count": 58,
   "metadata": {},
   "outputs": [],
   "source": [
    "#round to nearest minute\n",
    "df_bt['min'] = df_bt['datetime'].apply(lambda x: x[0:16])"
   ]
  },
  {
   "cell_type": "code",
   "execution_count": 62,
   "metadata": {},
   "outputs": [],
   "source": [
    "df_bt_mins = df_bt[['Address','Person','min','Session']].groupby(['Address','Person','min']).count().reset_index()"
   ]
  },
  {
   "cell_type": "code",
   "execution_count": 65,
   "metadata": {},
   "outputs": [],
   "source": [
    "df_bt_mins['contact_minutes'] = df_bt_mins.groupby(['Address','Person']).cumcount()"
   ]
  },
  {
   "cell_type": "code",
   "execution_count": 66,
   "metadata": {},
   "outputs": [
    {
     "data": {
      "text/html": [
       "<div>\n",
       "<style scoped>\n",
       "    .dataframe tbody tr th:only-of-type {\n",
       "        vertical-align: middle;\n",
       "    }\n",
       "\n",
       "    .dataframe tbody tr th {\n",
       "        vertical-align: top;\n",
       "    }\n",
       "\n",
       "    .dataframe thead th {\n",
       "        text-align: right;\n",
       "    }\n",
       "</style>\n",
       "<table border=\"1\" class=\"dataframe\">\n",
       "  <thead>\n",
       "    <tr style=\"text-align: right;\">\n",
       "      <th></th>\n",
       "      <th>Address</th>\n",
       "      <th>Person</th>\n",
       "      <th>min</th>\n",
       "      <th>Session</th>\n",
       "      <th>contact_minutes</th>\n",
       "    </tr>\n",
       "  </thead>\n",
       "  <tbody>\n",
       "    <tr>\n",
       "      <th>0</th>\n",
       "      <td>00095916f5f9dff6ba342a4e0b14e7db</td>\n",
       "      <td>a0044ebb6b9f2077f46f7c084b5ee14d</td>\n",
       "      <td>2006-03-08 19:55</td>\n",
       "      <td>2</td>\n",
       "      <td>0</td>\n",
       "    </tr>\n",
       "    <tr>\n",
       "      <th>1</th>\n",
       "      <td>00095916f5f9dff6ba342a4e0b14e7db</td>\n",
       "      <td>a0044ebb6b9f2077f46f7c084b5ee14d</td>\n",
       "      <td>2006-03-08 19:56</td>\n",
       "      <td>2</td>\n",
       "      <td>1</td>\n",
       "    </tr>\n",
       "    <tr>\n",
       "      <th>2</th>\n",
       "      <td>000beb34d4f813893b91087c1ad34c75</td>\n",
       "      <td>968d5801ab6ecb6c56163b6661725044</td>\n",
       "      <td>2005-12-19 13:14</td>\n",
       "      <td>3</td>\n",
       "      <td>0</td>\n",
       "    </tr>\n",
       "    <tr>\n",
       "      <th>3</th>\n",
       "      <td>000beb34d4f813893b91087c1ad34c75</td>\n",
       "      <td>968d5801ab6ecb6c56163b6661725044</td>\n",
       "      <td>2005-12-19 13:15</td>\n",
       "      <td>1</td>\n",
       "      <td>1</td>\n",
       "    </tr>\n",
       "    <tr>\n",
       "      <th>4</th>\n",
       "      <td>000f10d5e5e54d675d73ce1d7949a45f</td>\n",
       "      <td>a0044ebb6b9f2077f46f7c084b5ee14d</td>\n",
       "      <td>2006-03-14 09:06</td>\n",
       "      <td>1</td>\n",
       "      <td>0</td>\n",
       "    </tr>\n",
       "  </tbody>\n",
       "</table>\n",
       "</div>"
      ],
      "text/plain": [
       "                            Address                            Person  \\\n",
       "0  00095916f5f9dff6ba342a4e0b14e7db  a0044ebb6b9f2077f46f7c084b5ee14d   \n",
       "1  00095916f5f9dff6ba342a4e0b14e7db  a0044ebb6b9f2077f46f7c084b5ee14d   \n",
       "2  000beb34d4f813893b91087c1ad34c75  968d5801ab6ecb6c56163b6661725044   \n",
       "3  000beb34d4f813893b91087c1ad34c75  968d5801ab6ecb6c56163b6661725044   \n",
       "4  000f10d5e5e54d675d73ce1d7949a45f  a0044ebb6b9f2077f46f7c084b5ee14d   \n",
       "\n",
       "                min  Session  contact_minutes  \n",
       "0  2006-03-08 19:55        2                0  \n",
       "1  2006-03-08 19:56        2                1  \n",
       "2  2005-12-19 13:14        3                0  \n",
       "3  2005-12-19 13:15        1                1  \n",
       "4  2006-03-14 09:06        1                0  "
      ]
     },
     "execution_count": 66,
     "metadata": {},
     "output_type": "execute_result"
    }
   ],
   "source": [
    "df_bt_mins.head()"
   ]
  },
  {
   "cell_type": "code",
   "execution_count": 71,
   "metadata": {},
   "outputs": [],
   "source": [
    "# Assume 5 min contact required for contageon (the rest pass by on street etc) - check papers\n",
    "df_contacts = df_bt_mins[df_bt_mins['contact_minutes'] ==5][['Address','Person', 'min']]"
   ]
  },
  {
   "cell_type": "code",
   "execution_count": 72,
   "metadata": {},
   "outputs": [
    {
     "data": {
      "text/plain": [
       "(2661, 3)"
      ]
     },
     "execution_count": 72,
     "metadata": {},
     "output_type": "execute_result"
    }
   ],
   "source": [
    "df_contacts.shape"
   ]
  },
  {
   "cell_type": "code",
   "execution_count": 86,
   "metadata": {},
   "outputs": [
    {
     "data": {
      "text/html": [
       "<div>\n",
       "<style scoped>\n",
       "    .dataframe tbody tr th:only-of-type {\n",
       "        vertical-align: middle;\n",
       "    }\n",
       "\n",
       "    .dataframe tbody tr th {\n",
       "        vertical-align: top;\n",
       "    }\n",
       "\n",
       "    .dataframe thead th {\n",
       "        text-align: right;\n",
       "    }\n",
       "</style>\n",
       "<table border=\"1\" class=\"dataframe\">\n",
       "  <thead>\n",
       "    <tr style=\"text-align: right;\">\n",
       "      <th></th>\n",
       "      <th>Address</th>\n",
       "      <th>Person</th>\n",
       "      <th>min</th>\n",
       "      <th>virus_confirmed</th>\n",
       "    </tr>\n",
       "  </thead>\n",
       "  <tbody>\n",
       "    <tr>\n",
       "      <th>14</th>\n",
       "      <td>002a96b9ab183c7bd363e97442781e68</td>\n",
       "      <td>c6c5992d7d4c0d51827a56e3dff9f310</td>\n",
       "      <td>2006-02-06 14:41</td>\n",
       "      <td>2000-01-01</td>\n",
       "    </tr>\n",
       "    <tr>\n",
       "      <th>43</th>\n",
       "      <td>0079f0341235e157a3945a9e0412e29e</td>\n",
       "      <td>b145ab13daaa36216c5790a0df819460</td>\n",
       "      <td>2005-10-30 21:31</td>\n",
       "      <td>2000-01-01</td>\n",
       "    </tr>\n",
       "    <tr>\n",
       "      <th>57</th>\n",
       "      <td>007bca84880aabf9dbb6ab5ef3c6e017</td>\n",
       "      <td>968d5801ab6ecb6c56163b6661725044</td>\n",
       "      <td>2006-02-09 15:24</td>\n",
       "      <td>2000-01-01</td>\n",
       "    </tr>\n",
       "    <tr>\n",
       "      <th>137</th>\n",
       "      <td>00857ad6e35fc79f30b62a228331791a</td>\n",
       "      <td>a0044ebb6b9f2077f46f7c084b5ee14d</td>\n",
       "      <td>2006-04-20 17:11</td>\n",
       "      <td>2000-01-01</td>\n",
       "    </tr>\n",
       "    <tr>\n",
       "      <th>145</th>\n",
       "      <td>0095308ac935b575a6900bff9576583f</td>\n",
       "      <td>b145ab13daaa36216c5790a0df819460</td>\n",
       "      <td>2006-03-12 23:20</td>\n",
       "      <td>2000-01-01</td>\n",
       "    </tr>\n",
       "  </tbody>\n",
       "</table>\n",
       "</div>"
      ],
      "text/plain": [
       "                              Address                            Person  \\\n",
       "14   002a96b9ab183c7bd363e97442781e68  c6c5992d7d4c0d51827a56e3dff9f310   \n",
       "43   0079f0341235e157a3945a9e0412e29e  b145ab13daaa36216c5790a0df819460   \n",
       "57   007bca84880aabf9dbb6ab5ef3c6e017  968d5801ab6ecb6c56163b6661725044   \n",
       "137  00857ad6e35fc79f30b62a228331791a  a0044ebb6b9f2077f46f7c084b5ee14d   \n",
       "145  0095308ac935b575a6900bff9576583f  b145ab13daaa36216c5790a0df819460   \n",
       "\n",
       "                  min virus_confirmed  \n",
       "14   2006-02-06 14:41      2000-01-01  \n",
       "43   2005-10-30 21:31      2000-01-01  \n",
       "57   2006-02-09 15:24      2000-01-01  \n",
       "137  2006-04-20 17:11      2000-01-01  \n",
       "145  2006-03-12 23:20      2000-01-01  "
      ]
     },
     "execution_count": 86,
     "metadata": {},
     "output_type": "execute_result"
    }
   ],
   "source": [
    "df_contacts.head()"
   ]
  },
  {
   "cell_type": "code",
   "execution_count": 75,
   "metadata": {},
   "outputs": [],
   "source": [
    "df_contacts['virus_confirmed'] = pd.Timestamp('2000-01-01')"
   ]
  },
  {
   "cell_type": "code",
   "execution_count": 78,
   "metadata": {},
   "outputs": [],
   "source": [
    "G = nx.from_pandas_edgelist(df_contacts, 'Address', 'Person', edge_attr=True)"
   ]
  },
  {
   "cell_type": "code",
   "execution_count": 89,
   "metadata": {},
   "outputs": [
    {
     "data": {
      "image/png": "[encoded data removed]",
      "text/plain": [
       "<Figure size 432x288 with 1 Axes>"
      ]
     },
     "metadata": {},
     "output_type": "display_data"
    }
   ],
   "source": [
    "nx.draw(G.subgraph(['002a96b9ab183c7bd363e97442781e68', '0079f0341235e157a3945a9e0412e29e','c6c5992d7d4c0d51827a56e3dff9f310','b145ab13daaa36216c5790a0df819460']), with_labels=True)\n",
    "plt.show()"
   ]
  },
  {
   "cell_type": "markdown",
   "metadata": {},
   "source": [
    "## Algorithm to trace recent contacts"
   ]
  },
  {
   "cell_type": "code",
   "execution_count": null,
   "metadata": {},
   "outputs": [],
   "source": [
    "# create sub-graph, filter by time edge property"
   ]
  },
  {
   "cell_type": "markdown",
   "metadata": {},
   "source": [
    "## Test Server accepts files"
   ]
  },
  {
   "cell_type": "code",
   "execution_count": 39,
   "metadata": {},
   "outputs": [],
   "source": [
    "files = {'file': open('./Data/gpx_sample_london_park/2894941169.gpx', 'rb')}\n",
    "r = requests.post('http://95.216.149.106:8000/uploadfile/',  files=files)"
   ]
  },
  {
   "cell_type": "code",
   "execution_count": 41,
   "metadata": {},
   "outputs": [
    {
     "data": {
      "text/plain": [
       "{'filename': '2894941169.gpx'}"
      ]
     },
     "execution_count": 41,
     "metadata": {},
     "output_type": "execute_result"
    }
   ],
   "source": [
    "r.json()"
   ]
  },
  {
   "cell_type": "code",
   "execution_count": null,
   "metadata": {},
   "outputs": [],
   "source": [
    "files = {'file': open('./Data/gpx_sample_london_park/2894941169.gpx', 'rb')}\n",
    "r = requests.post('http://95.216.149.106:8000/uploadfile/',  files=files)"
   ]
  }
 ],
 "metadata": {
  "kernelspec": {
   "display_name": "Python 3",
   "language": "python",
   "name": "python3"
  },
  "language_info": {
   "codemirror_mode": {
    "name": "ipython",
    "version": 3
   },
   "file_extension": ".py",
   "mimetype": "text/x-python",
   "name": "python",
   "nbconvert_exporter": "python",
   "pygments_lexer": "ipython3",
   "version": "3.6.5"
  }
 },
 "nbformat": 4,
 "nbformat_minor": 2
}
